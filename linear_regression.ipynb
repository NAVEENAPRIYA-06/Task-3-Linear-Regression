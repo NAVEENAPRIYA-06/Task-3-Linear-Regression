{
 "cells": [
  {
   "cell_type": "code",
   "execution_count": 1,
   "id": "cb5ca87d",
   "metadata": {},
   "outputs": [
    {
     "name": "stdout",
     "output_type": "stream",
     "text": [
      "      price  area  bedrooms  bathrooms  stories mainroad guestroom basement  \\\n",
      "0  13300000  7420         4          2        3      yes        no       no   \n",
      "1  12250000  8960         4          4        4      yes        no       no   \n",
      "2  12250000  9960         3          2        2      yes        no      yes   \n",
      "3  12215000  7500         4          2        2      yes        no      yes   \n",
      "4  11410000  7420         4          1        2      yes       yes      yes   \n",
      "\n",
      "  hotwaterheating airconditioning  parking prefarea furnishingstatus  \n",
      "0              no             yes        2      yes        furnished  \n",
      "1              no             yes        3       no        furnished  \n",
      "2              no              no        2      yes   semi-furnished  \n",
      "3              no             yes        3      yes        furnished  \n",
      "4              no             yes        2       no        furnished  \n"
     ]
    }
   ],
   "source": [
    "import pandas as pd\n",
    "import numpy as np\n",
    "import matplotlib.pyplot as plt\n",
    "from sklearn.model_selection import train_test_split\n",
    "from sklearn.linear_model import LinearRegression\n",
    "from sklearn.metrics import mean_absolute_error, mean_squared_error, r2_score\n",
    "\n",
    "# Load the dataset\n",
    "df = pd.read_csv('Housing.csv')\n",
    "\n",
    "# Display the first 5 rows to understand the data\n",
    "print(df.head())"
   ]
  },
  {
   "cell_type": "code",
   "execution_count": 2,
   "id": "6954dcaa",
   "metadata": {},
   "outputs": [
    {
     "name": "stdout",
     "output_type": "stream",
     "text": [
      "Index(['price', 'area', 'bedrooms', 'bathrooms', 'stories', 'mainroad',\n",
      "       'guestroom', 'basement', 'hotwaterheating', 'airconditioning',\n",
      "       'parking', 'prefarea', 'furnishingstatus'],\n",
      "      dtype='object')\n",
      "Shape of X_train_simple: (381, 1)\n",
      "Shape of y_train_simple: (381,)\n"
     ]
    }
   ],
   "source": [
    "# Check the columns in your dataframe to select the features\n",
    "print(df.columns)\n",
    "\n",
    "# For Simple Linear Regression: Choose one feature and the target variable\n",
    "# Let's use 'area' to predict 'price' (assuming these columns exist in your Housing.csv)\n",
    "# If your columns have different names, replace them here.\n",
    "X_simple = df[['area']] # Feature must be a 2D array/DataFrame\n",
    "y_simple = df['price'] # Target variable\n",
    "\n",
    "# Split the data for Simple Linear Regression\n",
    "X_train_simple, X_test_simple, y_train_simple, y_test_simple = train_test_split(X_simple, y_simple, test_size=0.3, random_state=42)\n",
    "\n",
    "# For Multiple Linear Regression: Choose multiple features\n",
    "# Let's use 'area', 'bedrooms', and 'bathrooms' (again, adjust if needed)\n",
    "X_multiple = df[['area', 'bedrooms', 'bathrooms']]\n",
    "y_multiple = df['price']\n",
    "\n",
    "# Split the data for Multiple Linear Regression\n",
    "X_train_multiple, X_test_multiple, y_train_multiple, y_test_multiple = train_test_split(X_multiple, y_multiple, test_size=0.3, random_state=42)\n",
    "\n",
    "print(f\"Shape of X_train_simple: {X_train_simple.shape}\")\n",
    "print(f\"Shape of y_train_simple: {y_train_simple.shape}\")"
   ]
  }
 ],
 "metadata": {
  "kernelspec": {
   "display_name": "venv",
   "language": "python",
   "name": "python3"
  },
  "language_info": {
   "codemirror_mode": {
    "name": "ipython",
    "version": 3
   },
   "file_extension": ".py",
   "mimetype": "text/x-python",
   "name": "python",
   "nbconvert_exporter": "python",
   "pygments_lexer": "ipython3",
   "version": "3.13.7"
  }
 },
 "nbformat": 4,
 "nbformat_minor": 5
}
