{
 "cells": [
  {
   "cell_type": "code",
   "execution_count": 1,
   "id": "cb5ca87d",
   "metadata": {},
   "outputs": [
    {
     "name": "stdout",
     "output_type": "stream",
     "text": [
      "      price  area  bedrooms  bathrooms  stories mainroad guestroom basement  \\\n",
      "0  13300000  7420         4          2        3      yes        no       no   \n",
      "1  12250000  8960         4          4        4      yes        no       no   \n",
      "2  12250000  9960         3          2        2      yes        no      yes   \n",
      "3  12215000  7500         4          2        2      yes        no      yes   \n",
      "4  11410000  7420         4          1        2      yes       yes      yes   \n",
      "\n",
      "  hotwaterheating airconditioning  parking prefarea furnishingstatus  \n",
      "0              no             yes        2      yes        furnished  \n",
      "1              no             yes        3       no        furnished  \n",
      "2              no              no        2      yes   semi-furnished  \n",
      "3              no             yes        3      yes        furnished  \n",
      "4              no             yes        2       no        furnished  \n"
     ]
    }
   ],
   "source": [
    "import pandas as pd\n",
    "import numpy as np\n",
    "import matplotlib.pyplot as plt\n",
    "from sklearn.model_selection import train_test_split\n",
    "from sklearn.linear_model import LinearRegression\n",
    "from sklearn.metrics import mean_absolute_error, mean_squared_error, r2_score\n",
    "\n",
    "# Load the dataset\n",
    "df = pd.read_csv('Housing.csv')\n",
    "\n",
    "# Display the first 5 rows to understand the data\n",
    "print(df.head())"
   ]
  },
  {
   "cell_type": "code",
   "execution_count": 2,
   "id": "6954dcaa",
   "metadata": {},
   "outputs": [
    {
     "name": "stdout",
     "output_type": "stream",
     "text": [
      "Index(['price', 'area', 'bedrooms', 'bathrooms', 'stories', 'mainroad',\n",
      "       'guestroom', 'basement', 'hotwaterheating', 'airconditioning',\n",
      "       'parking', 'prefarea', 'furnishingstatus'],\n",
      "      dtype='object')\n",
      "Shape of X_train_simple: (381, 1)\n",
      "Shape of y_train_simple: (381,)\n"
     ]
    }
   ],
   "source": [
    "# Check the columns in your dataframe to select the features\n",
    "print(df.columns)\n",
    "\n",
    "# For Simple Linear Regression: Choose one feature and the target variable\n",
    "# Let's use 'area' to predict 'price' (assuming these columns exist in your Housing.csv)\n",
    "# If your columns have different names, replace them here.\n",
    "X_simple = df[['area']] # Feature must be a 2D array/DataFrame\n",
    "y_simple = df['price'] # Target variable\n",
    "\n",
    "# Split the data for Simple Linear Regression\n",
    "X_train_simple, X_test_simple, y_train_simple, y_test_simple = train_test_split(X_simple, y_simple, test_size=0.3, random_state=42)\n",
    "\n",
    "# For Multiple Linear Regression: Choose multiple features\n",
    "# Let's use 'area', 'bedrooms', and 'bathrooms' (again, adjust if needed)\n",
    "X_multiple = df[['area', 'bedrooms', 'bathrooms']]\n",
    "y_multiple = df['price']\n",
    "\n",
    "# Split the data for Multiple Linear Regression\n",
    "X_train_multiple, X_test_multiple, y_train_multiple, y_test_multiple = train_test_split(X_multiple, y_multiple, test_size=0.3, random_state=42)\n",
    "\n",
    "print(f\"Shape of X_train_simple: {X_train_simple.shape}\")\n",
    "print(f\"Shape of y_train_simple: {y_train_simple.shape}\")"
   ]
  },
  {
   "cell_type": "code",
   "execution_count": 3,
   "id": "ef3aaae8",
   "metadata": {},
   "outputs": [
    {
     "name": "stdout",
     "output_type": "stream",
     "text": [
      "Simple model coefficients: [449.44700819]\n",
      "Simple model intercept: 2457461.528387109\n",
      "Multiple model coefficients: [3.71450579e+02 3.74297346e+05 1.40247297e+06]\n",
      "Multiple model intercept: -20291.08854601346\n"
     ]
    }
   ],
   "source": [
    "# Create a Linear Regression model instance\n",
    "simple_model = LinearRegression()\n",
    "multiple_model = LinearRegression()\n",
    "\n",
    "# Train the Simple Linear Regression model\n",
    "simple_model.fit(X_train_simple, y_train_simple)\n",
    "\n",
    "# Train the Multiple Linear Regression model\n",
    "multiple_model.fit(X_train_multiple, y_train_multiple)\n",
    "\n",
    "# Make predictions on the test data\n",
    "y_pred_simple = simple_model.predict(X_test_simple)\n",
    "y_pred_multiple = multiple_model.predict(X_test_multiple)\n",
    "\n",
    "print(\"Simple model coefficients:\", simple_model.coef_)\n",
    "print(\"Simple model intercept:\", simple_model.intercept_)\n",
    "\n",
    "print(\"Multiple model coefficients:\", multiple_model.coef_)\n",
    "print(\"Multiple model intercept:\", multiple_model.intercept_)"
   ]
  },
  {
   "cell_type": "code",
   "execution_count": 4,
   "id": "52253ba4",
   "metadata": {},
   "outputs": [
    {
     "name": "stdout",
     "output_type": "stream",
     "text": [
      "Simple Linear Regression Model Evaluation:\n",
      "MAE: 1387227.90\n",
      "MSE: 3193989923757.62\n",
      "R-squared: 0.26\n",
      "\n",
      "==================================================\n",
      "\n",
      "Multiple Linear Regression Model Evaluation:\n",
      "MAE: 1184955.93\n",
      "MSE: 2379848918341.32\n",
      "R-squared: 0.45\n"
     ]
    }
   ],
   "source": [
    "# Evaluate the Simple Linear Regression model\n",
    "print(\"Simple Linear Regression Model Evaluation:\")\n",
    "mae_simple = mean_absolute_error(y_test_simple, y_pred_simple)\n",
    "mse_simple = mean_squared_error(y_test_simple, y_pred_simple)\n",
    "r2_simple = r2_score(y_test_simple, y_pred_simple)\n",
    "print(f\"MAE: {mae_simple:.2f}\")\n",
    "print(f\"MSE: {mse_simple:.2f}\")\n",
    "print(f\"R-squared: {r2_simple:.2f}\")\n",
    "\n",
    "print(\"\\n\" + \"=\"*50 + \"\\n\")\n",
    "\n",
    "# Evaluate the Multiple Linear Regression model\n",
    "print(\"Multiple Linear Regression Model Evaluation:\")\n",
    "mae_multiple = mean_absolute_error(y_test_multiple, y_pred_multiple)\n",
    "mse_multiple = mean_squared_error(y_test_multiple, y_pred_multiple)\n",
    "r2_multiple = r2_score(y_test_multiple, y_pred_multiple)\n",
    "print(f\"MAE: {mae_multiple:.2f}\")\n",
    "print(f\"MSE: {mse_multiple:.2f}\")\n",
    "print(f\"R-squared: {r2_multiple:.2f}\")"
   ]
  }
 ],
 "metadata": {
  "kernelspec": {
   "display_name": "venv",
   "language": "python",
   "name": "python3"
  },
  "language_info": {
   "codemirror_mode": {
    "name": "ipython",
    "version": 3
   },
   "file_extension": ".py",
   "mimetype": "text/x-python",
   "name": "python",
   "nbconvert_exporter": "python",
   "pygments_lexer": "ipython3",
   "version": "3.13.7"
  }
 },
 "nbformat": 4,
 "nbformat_minor": 5
}
